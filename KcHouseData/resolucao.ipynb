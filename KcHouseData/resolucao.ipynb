{
 "cells": [
  {
   "cell_type": "markdown",
   "id": "d0e30af6",
   "metadata": {},
   "source": [
    "## 0. Loading data"
   ]
  },
  {
   "cell_type": "code",
   "execution_count": 21,
   "id": "fae5952f",
   "metadata": {
    "scrolled": true
   },
   "outputs": [],
   "source": [
    "data = pd.read_csv( 'kc_house_data.csv' )"
   ]
  },
  {
   "cell_type": "code",
   "execution_count": 22,
   "id": "381fc40a",
   "metadata": {},
   "outputs": [],
   "source": [
    "import pandas as pd"
   ]
  },
  {
   "cell_type": "markdown",
   "id": "901d4d38",
   "metadata": {},
   "source": [
    "## 1.Quantas casas estão disponíveis para compra?"
   ]
  },
  {
   "cell_type": "code",
   "execution_count": 28,
   "id": "db8f4a4a",
   "metadata": {},
   "outputs": [
    {
     "name": "stdout",
     "output_type": "stream",
     "text": [
      "O numero de casas disponiveis é de 21436.\n"
     ]
    }
   ],
   "source": [
    "# Strategy:\n",
    "# 1. Selecionar a coluna 'id'\n",
    "# 2. Manter apenas os valores unicos\n",
    "# 2. Contar e armazenar na variavel 'houses'\n",
    "\n",
    "houses = len( data['id'].unique() )\n",
    "\n",
    "print( 'O numero de casas disponiveis é de {}.'.format( houses ) )"
   ]
  },
  {
   "cell_type": "markdown",
   "id": "7b1eb0a0",
   "metadata": {},
   "source": [
    "# 2.Quais são os atributos das casas?"
   ]
  },
  {
   "cell_type": "code",
   "execution_count": 37,
   "id": "e9085dcf",
   "metadata": {},
   "outputs": [
    {
     "name": "stdout",
     "output_type": "stream",
     "text": [
      "Os atributos das casas sao:\n",
      "Index(['price', 'bedrooms', 'bathrooms', 'sqft_living', 'sqft_lot', 'floors',\n",
      "       'waterfront', 'view', 'condition', 'grade', 'sqft_above',\n",
      "       'sqft_basement', 'yr_built', 'yr_renovated', 'zipcode', 'lat', 'long',\n",
      "       'sqft_living15', 'sqft_lot15'],\n",
      "      dtype='object')\n",
      "A quantidade de atributos sao: 19\n"
     ]
    }
   ],
   "source": [
    "# Assuptions:\n",
    "# As colunas 'id' e 'date' não são atributos das casas\n",
    "\n",
    "# Strategy:\n",
    "# 1. Transformar todas as colunas em uma lista sem as colunas 'id' e date\n",
    "# 2. Armazenar essa lista na variavel 'atributes_houses'\n",
    "# 3. Contar o total de atributos\n",
    "# 4. Armazenar o total de atributos na variavel 'atributes'\n",
    "\n",
    "atributes_houses = data.drop( ['id','date'], axis=1 ).columns\n",
    "atributes = len( atributes_houses )\n",
    "\n",
    "print( 'Os atributos das casas sao:\\n{}\\nA quantidade de atributos sao: {}'.format( atributes_houses, atributes ) )"
   ]
  },
  {
   "cell_type": "code",
   "execution_count": null,
   "id": "e8ed4121",
   "metadata": {},
   "outputs": [],
   "source": []
  }
 ],
 "metadata": {
  "kernelspec": {
   "display_name": "Python 3 (ipykernel)",
   "language": "python",
   "name": "python3"
  },
  "language_info": {
   "codemirror_mode": {
    "name": "ipython",
    "version": 3
   },
   "file_extension": ".py",
   "mimetype": "text/x-python",
   "name": "python",
   "nbconvert_exporter": "python",
   "pygments_lexer": "ipython3",
   "version": "3.9.7"
  }
 },
 "nbformat": 4,
 "nbformat_minor": 5
}
