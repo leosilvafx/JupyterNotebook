{
 "cells": [
  {
   "cell_type": "markdown",
   "id": "d0e30af6",
   "metadata": {},
   "source": [
    "## 0. Loading data"
   ]
  },
  {
   "cell_type": "code",
   "execution_count": 16,
   "id": "381fc40a",
   "metadata": {},
   "outputs": [],
   "source": [
    "import pandas as pd\n",
    "import numpy as np"
   ]
  },
  {
   "cell_type": "code",
   "execution_count": 17,
   "id": "fae5952f",
   "metadata": {
    "scrolled": true
   },
   "outputs": [],
   "source": [
    "data = pd.read_csv( 'kc_house_data.csv' )"
   ]
  },
  {
   "cell_type": "markdown",
   "id": "901d4d38",
   "metadata": {},
   "source": [
    "## 1.Quantas casas estão disponíveis para compra?"
   ]
  },
  {
   "cell_type": "code",
   "execution_count": 20,
   "id": "db8f4a4a",
   "metadata": {},
   "outputs": [
    {
     "data": {
      "text/plain": [
       "21436"
      ]
     },
     "execution_count": 20,
     "metadata": {},
     "output_type": "execute_result"
    }
   ],
   "source": [
    "len( data['id'].unique() )"
   ]
  },
  {
   "cell_type": "markdown",
   "id": "7b1eb0a0",
   "metadata": {},
   "source": [
    "# 2.Quantos atributos as casas possuem?"
   ]
  },
  {
   "cell_type": "code",
   "execution_count": 4,
   "id": "e9085dcf",
   "metadata": {},
   "outputs": [
    {
     "data": {
      "text/plain": [
       "19"
      ]
     },
     "execution_count": 4,
     "metadata": {},
     "output_type": "execute_result"
    }
   ],
   "source": [
    "len( data.drop( ['id','date'], axis=1).columns )"
   ]
  },
  {
   "cell_type": "markdown",
   "id": "4e0d09bc",
   "metadata": {},
   "source": [
    "# 3.Quais são os atributos das casas?"
   ]
  },
  {
   "cell_type": "code",
   "execution_count": 5,
   "id": "987073e7",
   "metadata": {},
   "outputs": [
    {
     "data": {
      "text/plain": [
       "Index(['price', 'bedrooms', 'bathrooms', 'sqft_living', 'sqft_lot', 'floors',\n",
       "       'waterfront', 'view', 'condition', 'grade', 'sqft_above',\n",
       "       'sqft_basement', 'yr_built', 'yr_renovated', 'zipcode', 'lat', 'long',\n",
       "       'sqft_living15', 'sqft_lot15'],\n",
       "      dtype='object')"
      ]
     },
     "execution_count": 5,
     "metadata": {},
     "output_type": "execute_result"
    }
   ],
   "source": [
    "data.drop( ['id','date'], axis=1 ).columns"
   ]
  },
  {
   "cell_type": "markdown",
   "id": "7df8b4e5",
   "metadata": {},
   "source": [
    "# 4.Qual a casa mais cara?"
   ]
  },
  {
   "cell_type": "code",
   "execution_count": 6,
   "id": "8e692e9b",
   "metadata": {
    "scrolled": true
   },
   "outputs": [
    {
     "data": {
      "text/plain": [
       "7252    6762700020\n",
       "Name: id, dtype: int64"
      ]
     },
     "execution_count": 6,
     "metadata": {},
     "output_type": "execute_result"
    }
   ],
   "source": [
    "data['id'][data.price == (data['price'].max())] "
   ]
  },
  {
   "cell_type": "markdown",
   "id": "aa2141ca",
   "metadata": {},
   "source": [
    "# 5.Qual a casa com o maior numero de quartos?\n",
    "\n",
    "\n",
    "\n",
    "\n",
    "\n",
    "\n",
    "\n",
    "\n",
    "\n"
   ]
  },
  {
   "cell_type": "code",
   "execution_count": 7,
   "id": "fd13ab05",
   "metadata": {},
   "outputs": [
    {
     "data": {
      "text/plain": [
       "15870    2402100895\n",
       "Name: id, dtype: int64"
      ]
     },
     "execution_count": 7,
     "metadata": {},
     "output_type": "execute_result"
    }
   ],
   "source": [
    "data['id'][data.bedrooms == (data['bedrooms'].max())] "
   ]
  },
  {
   "cell_type": "markdown",
   "id": "2024ae4c",
   "metadata": {},
   "source": [
    "# 6.Qual a soma total de quartos do conjunto de dados?"
   ]
  },
  {
   "cell_type": "code",
   "execution_count": 21,
   "id": "a771fbc7",
   "metadata": {},
   "outputs": [
    {
     "data": {
      "text/plain": [
       "72854"
      ]
     },
     "execution_count": 21,
     "metadata": {},
     "output_type": "execute_result"
    }
   ],
   "source": [
    "data.bedrooms.sum()"
   ]
  },
  {
   "cell_type": "markdown",
   "id": "bbb012d3",
   "metadata": {},
   "source": [
    "# 7.Quantas casas possuem 2 banheiros?"
   ]
  },
  {
   "cell_type": "code",
   "execution_count": 9,
   "id": "34042d92",
   "metadata": {},
   "outputs": [
    {
     "data": {
      "text/plain": [
       "1930"
      ]
     },
     "execution_count": 9,
     "metadata": {},
     "output_type": "execute_result"
    }
   ],
   "source": [
    "len( data['bathrooms'][data.bathrooms == 2])"
   ]
  },
  {
   "cell_type": "markdown",
   "id": "f86be0ca",
   "metadata": {},
   "source": [
    "# 8.Qual o preço médio de todas as casas no conjunto de dados?"
   ]
  },
  {
   "cell_type": "code",
   "execution_count": 22,
   "id": "85b45fce",
   "metadata": {},
   "outputs": [
    {
     "data": {
      "text/plain": [
       "540088.14"
      ]
     },
     "execution_count": 22,
     "metadata": {},
     "output_type": "execute_result"
    }
   ],
   "source": [
    "np.round( data['price'].mean(), 2 )"
   ]
  },
  {
   "cell_type": "markdown",
   "id": "cefd332e",
   "metadata": {},
   "source": [
    "# 9. Qual o preço médio das casas com 2 banheiros?"
   ]
  },
  {
   "cell_type": "code",
   "execution_count": 39,
   "id": "112930eb",
   "metadata": {},
   "outputs": [
    {
     "data": {
      "text/plain": [
       "457889.72"
      ]
     },
     "execution_count": 39,
     "metadata": {},
     "output_type": "execute_result"
    }
   ],
   "source": [
    "np.round( data['price'][data.bathrooms == 2].mean(), 2)"
   ]
  },
  {
   "cell_type": "markdown",
   "id": "bbd24157",
   "metadata": {},
   "source": [
    "# 10.Qual o preço minimo entre as casas com 3 quartos?"
   ]
  },
  {
   "cell_type": "code",
   "execution_count": 51,
   "id": "b3bf5acf",
   "metadata": {},
   "outputs": [
    {
     "data": {
      "text/plain": [
       "82000.0"
      ]
     },
     "execution_count": 51,
     "metadata": {},
     "output_type": "execute_result"
    }
   ],
   "source": [
    "data['price'][data.bedrooms == 3].min()"
   ]
  },
  {
   "cell_type": "markdown",
   "id": "8405a572",
   "metadata": {},
   "source": [
    "# 11.Quantas casas possuem mais de 300 metros quadrados de sala de estar?"
   ]
  },
  {
   "cell_type": "code",
   "execution_count": 52,
   "id": "225c1973",
   "metadata": {},
   "outputs": [
    {
     "data": {
      "text/plain": [
       "2258"
      ]
     },
     "execution_count": 52,
     "metadata": {},
     "output_type": "execute_result"
    }
   ],
   "source": [
    "\n",
    "len( data['sqft_living'][data.sqft_living > 3229.17] )"
   ]
  },
  {
   "cell_type": "markdown",
   "id": "7b2c35e9",
   "metadata": {},
   "source": [
    "# 12.Quantas casas possuem mais de 2 andares?"
   ]
  },
  {
   "cell_type": "code",
   "execution_count": 58,
   "id": "4e292f8b",
   "metadata": {},
   "outputs": [
    {
     "data": {
      "text/plain": [
       "782"
      ]
     },
     "execution_count": 58,
     "metadata": {},
     "output_type": "execute_result"
    }
   ],
   "source": [
    "len( data['floors'][data.floors > 2] )"
   ]
  },
  {
   "cell_type": "markdown",
   "id": "16c97751",
   "metadata": {},
   "source": [
    "# 13.Quantas casas possuem mais de 300 metros quadrados?"
   ]
  },
  {
   "cell_type": "code",
   "execution_count": 55,
   "id": "9c20f2d8",
   "metadata": {},
   "outputs": [
    {
     "data": {
      "text/plain": [
       "19519"
      ]
     },
     "execution_count": 55,
     "metadata": {},
     "output_type": "execute_result"
    }
   ],
   "source": [
    "len( data['sqft_lot'][data.sqft_lot > 3229.17] )"
   ]
  },
  {
   "cell_type": "markdown",
   "id": "a3e0ac9f",
   "metadata": {},
   "source": [
    "# 14.Quantas casas tem mais de dois quartos"
   ]
  },
  {
   "cell_type": "code",
   "execution_count": 28,
   "id": "9a6c2f86",
   "metadata": {},
   "outputs": [
    {
     "data": {
      "text/plain": [
       "18641"
      ]
     },
     "execution_count": 28,
     "metadata": {},
     "output_type": "execute_result"
    }
   ],
   "source": [
    "len( data['bedrooms'][data.bedrooms > 2] )"
   ]
  },
  {
   "cell_type": "markdown",
   "id": "8fc4776b",
   "metadata": {},
   "source": [
    "# 15.Quantas casas tem vista para o mar"
   ]
  },
  {
   "cell_type": "code",
   "execution_count": 60,
   "id": "d2c8418e",
   "metadata": {},
   "outputs": [
    {
     "data": {
      "text/plain": [
       "163"
      ]
     },
     "execution_count": 60,
     "metadata": {},
     "output_type": "execute_result"
    }
   ],
   "source": [
    "len( data['waterfront'][data.waterfront == 1] )"
   ]
  },
  {
   "cell_type": "markdown",
   "id": "7883d640",
   "metadata": {},
   "source": [
    "# 16.Das casas com vista para o mar, quantas tem 3 quartos?"
   ]
  },
  {
   "cell_type": "code",
   "execution_count": 29,
   "id": "f0c69b01",
   "metadata": {},
   "outputs": [
    {
     "data": {
      "text/plain": [
       "64"
      ]
     },
     "execution_count": 29,
     "metadata": {},
     "output_type": "execute_result"
    }
   ],
   "source": [
    "len( data['waterfront'][data.waterfront == 1][data.bedrooms == 3] )"
   ]
  },
  {
   "cell_type": "markdown",
   "id": "0d33eb11",
   "metadata": {},
   "source": [
    "# 17.Das casas com mais de 300 metros de sala de estar, quantas tem mais de 2 banheiros?"
   ]
  },
  {
   "cell_type": "code",
   "execution_count": 56,
   "id": "474da9da",
   "metadata": {},
   "outputs": [
    {
     "data": {
      "text/plain": [
       "2201"
      ]
     },
     "execution_count": 56,
     "metadata": {},
     "output_type": "execute_result"
    }
   ],
   "source": [
    "len( data['sqft_living'][data.sqft_living > 3229.17][data.bathrooms > 2] )"
   ]
  }
 ],
 "metadata": {
  "kernelspec": {
   "display_name": "Python 3 (ipykernel)",
   "language": "python",
   "name": "python3"
  },
  "language_info": {
   "codemirror_mode": {
    "name": "ipython",
    "version": 3
   },
   "file_extension": ".py",
   "mimetype": "text/x-python",
   "name": "python",
   "nbconvert_exporter": "python",
   "pygments_lexer": "ipython3",
   "version": "3.9.7"
  }
 },
 "nbformat": 4,
 "nbformat_minor": 5
}
